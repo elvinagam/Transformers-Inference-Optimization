{
  "cells": [
    {
      "cell_type": "markdown",
      "metadata": {
        "id": "view-in-github",
        "colab_type": "text"
      },
      "source": [
        "<a href=\"https://colab.research.google.com/github/elvinagam/Transformers-Inference-Optimization/blob/main/nvfuser_intro.ipynb\" target=\"_parent\"><img src=\"https://colab.research.google.com/assets/colab-badge.svg\" alt=\"Open In Colab\"/></a>"
      ]
    },
    {
      "cell_type": "code",
      "execution_count": null,
      "metadata": {
        "id": "Bs_vdwudzPXG"
      },
      "outputs": [],
      "source": [
        "%matplotlib inline"
      ]
    },
    {
      "cell_type": "markdown",
      "metadata": {
        "id": "1qvAIknAzPXN"
      },
      "source": [
        "\n",
        "# Getting Started - Accelerate Your Scripts with nvFuser\n",
        "\n",
        "**Authors**: [Christian Sarofeen](https://github.com/csarofeen)\n",
        "[Piotr Bialecki](https://github.com/ptrblck)\n",
        "[Kevin Stephano](https://github.com/kevinstephano)\n",
        "[Jie Jiang](https://github.com/jjsjann123)\n",
        "[Masaki Kozuki](https://github.com/crcrpar)\n",
        "`Neal Vaidya`\n",
        "\n",
        "\n",
        "## Introduction\n",
        "\n",
        "This tutorial will demonstrate how you can accelerate your networks\n",
        "with nvFuser. nvFuser is a Deep Learning Compiler that just-in-time\n",
        "compiles fast and flexible GPU specific code to reliably accelerate\n",
        "users' networks automatically, providing speedups for deep learning\n",
        "networks running on Volta and later CUDA accelerators by generating\n",
        "fast custom “fusion” kernels at runtime. nvFuser is specifically\n",
        "designed to meet the unique requirements of the PyTorch community,\n",
        "and it supports diverse network architectures and programs with\n",
        "dynamic inputs of varying shapes and strides.\n",
        "\n",
        "## Importing Packages and Selecting a Device\n",
        "In order to run this tutorial and see the benefits of using nvFuser,\n",
        "you would need to install the `1.12.0` PyTorch release as well as\n",
        "`functorch` `0.2` or newer version of them. `functorch` also needs\n",
        "`networkx` for its smart recomputation heuristics which you can\n",
        "install via `pip install networkx`.\n",
        "Additionally, a GPU is required.\n"
      ]
    },
    {
      "cell_type": "code",
      "source": [
        "pip install functorch"
      ],
      "metadata": {
        "id": "FVWXWlcl0Ni9",
        "outputId": "a6482f72-6da6-46e5-d293-2ca7d2f95b46",
        "colab": {
          "base_uri": "https://localhost:8080/"
        }
      },
      "execution_count": null,
      "outputs": [
        {
          "output_type": "stream",
          "name": "stdout",
          "text": [
            "Looking in indexes: https://pypi.org/simple, https://us-python.pkg.dev/colab-wheels/public/simple/\n",
            "Collecting functorch\n",
            "  Downloading functorch-0.2.1-cp37-cp37m-manylinux1_x86_64.whl (20.6 MB)\n",
            "\u001b[K     |████████████████████████████████| 20.6 MB 1.4 MB/s \n",
            "\u001b[?25hRequirement already satisfied: torch<1.13,>=1.12.1 in /usr/local/lib/python3.7/dist-packages (from functorch) (1.12.1+cu113)\n",
            "Requirement already satisfied: typing-extensions in /usr/local/lib/python3.7/dist-packages (from torch<1.13,>=1.12.1->functorch) (4.1.1)\n",
            "Installing collected packages: functorch\n",
            "Successfully installed functorch-0.2.1\n"
          ]
        }
      ]
    },
    {
      "cell_type": "code",
      "source": [
        "pip install networkx"
      ],
      "metadata": {
        "id": "zqVfBSXf0GkM",
        "outputId": "ff1cb46e-e91e-4ea3-f2c1-c4ac460e3bde",
        "colab": {
          "base_uri": "https://localhost:8080/"
        }
      },
      "execution_count": null,
      "outputs": [
        {
          "output_type": "stream",
          "name": "stdout",
          "text": [
            "Looking in indexes: https://pypi.org/simple, https://us-python.pkg.dev/colab-wheels/public/simple/\n",
            "Requirement already satisfied: networkx in /usr/local/lib/python3.7/dist-packages (2.6.3)\n"
          ]
        }
      ]
    },
    {
      "cell_type": "code",
      "execution_count": null,
      "metadata": {
        "id": "75rc5zY5zPXR"
      },
      "outputs": [],
      "source": [
        "import torch\n",
        "import torch.nn.functional as F\n",
        "import functorch\n",
        "from functorch.compile import memory_efficient_fusion\n",
        "from copy import deepcopy\n",
        "from typing import List\n",
        "import time\n",
        "import functools\n",
        "import random\n",
        "\n",
        "random.seed(42)\n",
        "\n",
        "if torch.__version__ < (1, 12, 0):\n",
        "    raise RuntimeError(\n",
        "        \"PyTorch >= 1.12.0 required, but your environment uses torch=={}\".format(\n",
        "            torch.__version__\n",
        "        )\n",
        "    )\n",
        "\n",
        "major, minor, _ = functorch.__version__.split(\".\")\n",
        "if int(major) == 0 and int(minor) < 2:\n",
        "    raise RuntimeError(\n",
        "        \"FuncTorch >= 0.2.0 required, but your environment uses functorch=={}\".format(\n",
        "            functorch.__version__\n",
        "        )\n",
        "    )"
      ]
    },
    {
      "cell_type": "markdown",
      "metadata": {
        "id": "N2jR_qUCzPXS"
      },
      "source": [
        "## The Transformer Block\n",
        "The network topology we’re going to focus on is the Transformer\n",
        "Block for networks like BERT. As of writing this tutorial, nvFuser\n",
        "provides acceleration of pointwise, reduction, and normalization\n",
        "operations. These simple operations are the backbone of large\n",
        "networks, so improving the speed of these operations can improve\n",
        "overall network training speed. Future releases of nvFuser will\n",
        "improve the performance of Linear Layers, but for now we will\n",
        "specifically look at the Bias-Dropout-Add-LayerNorm section of this\n",
        "Transformer Block.\n",
        "\n",
        ".. figure:: /_static/img/nvfuser_intro/nvfuser_transformer_block.png\n",
        "\n",
        "First, let’s define the forward pass for this section of our network.\n",
        "For when we’ll use TorchScript on this function, we decorate the\n",
        "function with type information of the function parameters. This isn’t\n",
        "always required, but it can often help to provide this information to\n",
        "TorchScript because it is a strictly typed system. Since we have\n",
        "PyTorch’s autograd system, we don’t need to explicitly define the\n",
        "backwards pass.\n",
        "\n"
      ]
    },
    {
      "cell_type": "code",
      "execution_count": null,
      "metadata": {
        "id": "N2tI_zqFzPXT"
      },
      "outputs": [],
      "source": [
        "def composite_definition(\n",
        "    input1: torch.Tensor,\n",
        "    input2: torch.Tensor,\n",
        "    weight: torch.Tensor,\n",
        "    bias1: torch.Tensor,\n",
        "    bias2: torch.Tensor,\n",
        "    normalization_axis: int,\n",
        "    dropout_prob: float,\n",
        ") -> torch.Tensor:\n",
        "    bias1_out = input1 + bias1\n",
        "    dropout_out = F.dropout(bias1_out, dropout_prob, training=True)\n",
        "    norm_input = dropout_out + input2\n",
        "    norm_output = F.layer_norm(\n",
        "        norm_input, (input1.size(normalization_axis),), weight, bias2\n",
        "    )\n",
        "    return norm_output"
      ]
    },
    {
      "cell_type": "markdown",
      "metadata": {
        "id": "f_32INgOzPXU"
      },
      "source": [
        "## Setup and Performance Metrics\n",
        "Next, we initialize some inputs, parameters, and a simulated gradient\n",
        "output tensor for the backwards pass since we aren’t including a\n",
        "loss function.\n",
        "\n",
        "\n"
      ]
    },
    {
      "cell_type": "code",
      "execution_count": null,
      "metadata": {
        "id": "-i0-AiqqzPXV"
      },
      "outputs": [],
      "source": [
        "# Setup initial tensors and parameters\n",
        "input_size = [64, 128, 1024]\n",
        "device = \"cuda\"\n",
        "dtype = torch.float32\n",
        "\n",
        "# Create sample inputs\n",
        "input1 = torch.randn(*input_size, device=device, dtype=dtype, requires_grad=True)\n",
        "input2 = torch.rand_like(input1).requires_grad_()\n",
        "\n",
        "# Precompute a grad output tensor, for this example it's the same size\n",
        "# as the inputs\n",
        "grad_output = torch.rand_like(input1)\n",
        "\n",
        "# Randomly initialize the model parameters\n",
        "weight = torch.nn.Parameter(torch.randn(input_size[2], dtype=dtype, device=device))\n",
        "bias1 = torch.nn.Parameter(torch.randn(input_size[2], dtype=dtype, device=device))\n",
        "bias2 = torch.nn.Parameter(torch.randn(input_size[2], dtype=dtype, device=device))\n",
        "\n",
        "parameters = [input1, input2, weight, bias1, bias2]"
      ]
    },
    {
      "cell_type": "markdown",
      "metadata": {
        "id": "eEoewBgjzPXW"
      },
      "source": [
        "To produce a baseline performance we will measure the speed of our\n",
        "forward and backward passes in PyTorch’s default eager mode. To get\n",
        "accurate and comparable measurements, we perform a few warm up\n",
        "iterations. Then, we time many iterations of the forward and backward\n",
        "pass using performance counters combined with proper GPU\n",
        "synchronization, then compute the average iterations per second.\n",
        "It’s important to be very careful when measuring performance on the\n",
        "GPU, as we want to remove any initialization costs and need\n",
        "synchronization since it’s an asynchronous device. Since we will\n",
        "measure many variations of this problem with and without nvFuser we\n",
        "define a helper method called `profile_workload` and will use\n",
        "`functool.partial` to concisely profile the workload.\n",
        "\n",
        "\n"
      ]
    },
    {
      "cell_type": "code",
      "execution_count": null,
      "metadata": {
        "id": "L-AIyRwZzPXX"
      },
      "outputs": [],
      "source": [
        "# Utility to profile the workload\n",
        "def profile_workload(forward_func, grad_output, iteration_count=100, label=\"\"):\n",
        "    # Perform warm-up iterations\n",
        "    for _ in range(3):\n",
        "        # Run model, forward and backward\n",
        "        output = forward_func()\n",
        "        output.backward(grad_output)\n",
        "        # delete gradiens to avoid profiling the gradient accumulation\n",
        "        for p in parameters:\n",
        "            p.grad = None\n",
        "\n",
        "    # Synchronize the GPU before starting the timer\n",
        "    torch.cuda.synchronize()\n",
        "    start = time.perf_counter()\n",
        "    for _ in range(iteration_count):\n",
        "        # Run model, forward and backward\n",
        "        output = forward_func()\n",
        "        output.backward(grad_output)\n",
        "        # delete gradiens to avoid profiling the gradient accumulation\n",
        "        for p in parameters:\n",
        "            p.grad = None\n",
        "\n",
        "    # Synchronize the GPU before stopping the timer\n",
        "    torch.cuda.synchronize()\n",
        "    stop = time.perf_counter()\n",
        "    iters_per_second = iteration_count / (stop - start)\n",
        "    if label:\n",
        "        print(label)\n",
        "    print(\"Average iterations per second: {:.2f}\".format(iters_per_second))"
      ]
    },
    {
      "cell_type": "markdown",
      "metadata": {
        "id": "xF4pFNc_zPXY"
      },
      "source": [
        "We can now measure a baseline performance of PyTorch’s eager mode\n",
        "(without nvFuser).\n",
        "\n",
        "\n"
      ]
    },
    {
      "cell_type": "code",
      "execution_count": null,
      "metadata": {
        "id": "jOMgJPDGzPXZ",
        "outputId": "611d6940-2d60-4178-886e-dd736114077d",
        "colab": {
          "base_uri": "https://localhost:8080/"
        }
      },
      "outputs": [
        {
          "output_type": "stream",
          "name": "stdout",
          "text": [
            "Eager Mode - Composite definition\n",
            "Average iterations per second: 335.23\n"
          ]
        }
      ],
      "source": [
        "# Run and profile eager mode execution on the composite definition of our\n",
        "# operations.\n",
        "func = functools.partial(\n",
        "    composite_definition,\n",
        "    input1,\n",
        "    input2,\n",
        "    weight,\n",
        "    bias1,\n",
        "    bias2,\n",
        "    normalization_axis=2,\n",
        "    dropout_prob=0.1,\n",
        ")\n",
        "profile_workload(\n",
        "    func, grad_output, iteration_count=100, label=\"Eager Mode - Composite definition\"\n",
        ")"
      ]
    },
    {
      "cell_type": "markdown",
      "metadata": {
        "id": "WlYO17yEzPXa"
      },
      "source": [
        "It’s important for PyTorch and nvFuser to work well across diverse\n",
        "GPU architectures. For our measurements we’ve run this tutorial on\n",
        "five GPUs ranging from consumer to enterprise grade. Our baseline\n",
        "geometric mean (geomean) performance across these GPUs is 850\n",
        "iterations per second, plotted in the figure below.\n",
        "\n",
        ".. figure:: /_static/img/nvfuser_intro/nvfuser_tutorial_0.png\n",
        "As we run different variations of this script with nvFuser, we will\n",
        "continue to add the results to this figure for the same GPUs.\n",
        "\n",
        "\n"
      ]
    },
    {
      "cell_type": "markdown",
      "metadata": {
        "id": "v_Njq14FzPXa"
      },
      "source": [
        "## TorchScript & nvFuser\n",
        "nvFuser is the default fusion system in TorchScript since PyTorch\n",
        "version 1.12, so to turn on nvFuser we need to enable TorchScript.\n",
        "This will allow nvFuser to automatically generate fast kernels and\n",
        "take over execution of these operations. TorchScript can be a\n",
        "challenging system to get working, but with our current definition\n",
        "of our operators, all we need to do is wrap our function in the\n",
        "`torch.jit.script` compile function. We can then simply run our\n",
        "workload as before.\n",
        "\n",
        "\n"
      ]
    },
    {
      "cell_type": "code",
      "execution_count": null,
      "metadata": {
        "id": "RkHyUudFzPXb",
        "outputId": "e9b2c77d-c0a0-4e20-a363-778fa97696b3",
        "colab": {
          "base_uri": "https://localhost:8080/"
        }
      },
      "outputs": [
        {
          "output_type": "stream",
          "name": "stdout",
          "text": [
            "TorchScript - Composite definition\n",
            "Average iterations per second: 423.74\n"
          ]
        }
      ],
      "source": [
        "scripted_composite_definition = torch.jit.script(composite_definition)\n",
        "func = functools.partial(\n",
        "    scripted_composite_definition,\n",
        "    input1,\n",
        "    input2,\n",
        "    weight,\n",
        "    bias1,\n",
        "    bias2,\n",
        "    normalization_axis=2,\n",
        "    dropout_prob=0.1,\n",
        ")\n",
        "profile_workload(\n",
        "    func, grad_output, iteration_count=100, label=\"TorchScript - Composite definition\"\n",
        ")"
      ]
    },
    {
      "cell_type": "markdown",
      "metadata": {
        "id": "XV-IdobFzPXb"
      },
      "source": [
        "Before we get to the results, it is important to mention here that\n",
        "nvFuser does not generate the exact same sequence of random numbers,\n",
        "as random number generation in PyTorch is dependent on the precise\n",
        "parallelization scheme used for the GPU function. Therefore, if you\n",
        "want to validate the output of nvFuser with the output without\n",
        "nvFuser, it would require disabling the random number generation\n",
        "functions. In this example, we would simply need to change\n",
        "`dropout_out = F.dropout(bias1_out, dropout_prob, training=True)`\n",
        "to\n",
        "`dropout_out = F.dropout(bias1_out, dropout_prob, training=False)`\n",
        "as the dropout function is the only function in this example that\n",
        "depends on random number generation.\n",
        "\n",
        ".. figure:: /_static/img/nvfuser_intro/nvfuser_tutorial_1.png\n",
        "\n",
        "Our geomean performance with nvFuser is 1,394 images per second\n",
        "which is a geomean of 1.64x faster than eager mode. We did not\n",
        "include the time that TorchScript and nvFuser take to compile the\n",
        "program and GPU functions. For real end-to-end training the\n",
        "compile time of TorchScript and nvFuser are negligible. For\n",
        "example, in this tutorial the combination of TorchScript and\n",
        "nvFuser took around 2.4s in total to compile these high speed\n",
        "GPU functions.\n",
        "\n",
        "nvFuser’s capabilities extend well beyond this initial performance gain.\n",
        "\n",
        "\n"
      ]
    },
    {
      "cell_type": "markdown",
      "metadata": {
        "id": "PNnBPdoZzPXb"
      },
      "source": [
        "## nvFuser & Dynamic Shapes\n",
        "It is challenging for Deep Learning Compilers to provide performance\n",
        "gains when the user changes the input sizes of the tensors. However,\n",
        "supporting changing shapes has always been a fundamental design\n",
        "criteria for nvFuser, as processing different-sized input tensors is\n",
        "critical to many applications like Natural Language Processing and\n",
        "Graph Neural Networks.\n",
        "\n",
        "To use nvFuser on inputs that change shape from iteration, we\n",
        "generate new input and output gradient tensors and make a few\n",
        "different sizes. Since the last dimension is shared with the\n",
        "parameters and cannot be changed dynamically in LayerNorm, we\n",
        "perturb the first two dimensions of the input and gradient tensors.\n",
        "\n",
        "\n"
      ]
    },
    {
      "cell_type": "code",
      "execution_count": null,
      "metadata": {
        "id": "zF-mGjbJzPXc"
      },
      "outputs": [],
      "source": [
        "SHAPE_COUNT = 20\n",
        "dynamic_sizes = deepcopy(input_size)\n",
        "\n",
        "inputs1: List[torch.Tensor] = []\n",
        "inputs2: List[torch.Tensor] = []\n",
        "grad_outputs: List[torch.Tensor] = []\n",
        "\n",
        "\n",
        "# Create some random shapes\n",
        "for _ in range(SHAPE_COUNT):\n",
        "    dynamic_sizes[0] = input_size[0] + random.randrange(-2, 3)\n",
        "    dynamic_sizes[1] = input_size[1] + random.randrange(-2, 3)\n",
        "    input = torch.randn(*dynamic_sizes, device=device, dtype=dtype, requires_grad=True)\n",
        "    inputs1.append(input)\n",
        "    inputs2.append(torch.rand_like(input))\n",
        "    grad_outputs.append(torch.rand_like(input))"
      ]
    },
    {
      "cell_type": "markdown",
      "metadata": {
        "id": "VnAx4-uwzPXc"
      },
      "source": [
        "No changes from before are required for running with TorchScript, we\n",
        "simply reuse the previous definition that we wrapped in\n",
        "`torch.jit.script`.\n",
        "\n",
        "We’ll start as usual by performing some warm-up iterations, however\n",
        "we won’t show nvFuser all of the input sizes, we’ll only show one\n",
        "size for the warm-up.\n",
        "\n",
        "\n"
      ]
    },
    {
      "cell_type": "code",
      "execution_count": null,
      "metadata": {
        "id": "23ixTJFazPXd"
      },
      "outputs": [],
      "source": [
        "# Perform warm-up iterations\n",
        "for _ in range(3):\n",
        "    dynamic_input1 = inputs1[0]\n",
        "    dynamic_input2 = inputs2[0]\n",
        "    dynamic_grad_output = grad_outputs[0]\n",
        "    # Run model, forward and backward\n",
        "    output = scripted_composite_definition(\n",
        "        dynamic_input1,\n",
        "        dynamic_input2,\n",
        "        weight,\n",
        "        bias1,\n",
        "        bias2,\n",
        "        normalization_axis=2,\n",
        "        dropout_prob=0.1,\n",
        "    )\n",
        "    output.backward(dynamic_grad_output)"
      ]
    },
    {
      "cell_type": "markdown",
      "metadata": {
        "id": "ui4-uR8uzPXd"
      },
      "source": [
        "Now, we can measure the performance metrics of nvFuser as we have\n",
        "previously.\n",
        "\n",
        "\n"
      ]
    },
    {
      "cell_type": "code",
      "execution_count": null,
      "metadata": {
        "id": "Z4kyIR9bzPXd",
        "outputId": "876102cd-ea57-4317-9f22-dc2b106f2322",
        "colab": {
          "base_uri": "https://localhost:8080/"
        }
      },
      "outputs": [
        {
          "output_type": "stream",
          "name": "stdout",
          "text": [
            "TorchScript - Random Sizes\n",
            "Average iterations per second: 434.78\n"
          ]
        }
      ],
      "source": [
        "# Profile manually as our helper function expects static inputs\n",
        "iteration_count = 100\n",
        "# Synchronize the GPU before starting the timer\n",
        "torch.cuda.synchronize()\n",
        "start = time.perf_counter()\n",
        "for i in range(iteration_count):\n",
        "    dynamic_input1 = inputs1[i % SHAPE_COUNT]\n",
        "    dynamic_input2 = inputs2[i % SHAPE_COUNT]\n",
        "    dynamic_grad_output = grad_outputs[i % SHAPE_COUNT]\n",
        "    dynamic_parameters = [dynamic_input1, dynamic_input2, weight, bias1, bias2]\n",
        "\n",
        "    # Run model, forward and backward\n",
        "    output = scripted_composite_definition(\n",
        "        dynamic_input1,\n",
        "        dynamic_input2,\n",
        "        weight,\n",
        "        bias1,\n",
        "        bias2,\n",
        "        normalization_axis=2,\n",
        "        dropout_prob=0.1,\n",
        "    )\n",
        "    output.backward(dynamic_grad_output)\n",
        "    # Delete the gradients to avoid profiling the gradient accumulation\n",
        "    for p in dynamic_parameters:\n",
        "        p.grad = None\n",
        "\n",
        "# Synchronize the GPU before stopping the timer\n",
        "torch.cuda.synchronize()\n",
        "stop = time.perf_counter()\n",
        "iters_per_second = iteration_count / (stop - start)\n",
        "print(\"TorchScript - Random Sizes\")\n",
        "print(\"Average iterations per second: {:.2f}\".format(iters_per_second))"
      ]
    },
    {
      "cell_type": "markdown",
      "metadata": {
        "id": "-m5CrVxnzPXe"
      },
      "source": [
        "Performance across our GPUs is very similar to the previous\n",
        "performance seen. Only the performance of the A100 degraded\n",
        "slightly, but is still much higher than without nvFuser. The small\n",
        "change in performance of the A100 is actually related to the\n",
        "additional CPU overhead that dynamic shapes cause in nvFuser.\n",
        "nvFuser at runtime has to infer how to run the different sized\n",
        "kernels, so additional CPU time is consumed. This CPU time is\n",
        "present with all GPUs, but since the A100 runs its functions so fast\n",
        "this CPU overhead cannot be fully hidden by the asynchronous nature\n",
        "of GPU execution.\n",
        "\n",
        ".. figure:: /_static/img/nvfuser_intro/nvfuser_tutorial_2.png\n",
        "\n",
        "<div class=\"alert alert-info\"><h4>Note</h4><p>Today, nvFuser in TorchScript is the only exposure of\n",
        "          nvFuser that allows for dynamic shape changes, although we will\n",
        "          expand this capability to other systems in the future. For more\n",
        "          insight into how dynamic shapes are implemented in nvFuser, you can\n",
        "          view this presentation from GTC 2021:\n",
        "          https://www.nvidia.com/en-us/on-demand/session/gtcspring21-s31952/</p></div>\n",
        "\n",
        "\n"
      ]
    },
    {
      "cell_type": "markdown",
      "metadata": {
        "id": "WKPXY6EFzPXe"
      },
      "source": [
        "## Defining novel operations with nvFuser and FuncTorch\n",
        "\n",
        "One of the primary benefits of nvFuser is the ability to define\n",
        "novel operations composed of PyTorch “primitives” which are then\n",
        "just-in-time compiled into efficient kernels.\n",
        "\n",
        "PyTorch has strong performance for any individual operation,\n",
        "especially composite operations like LayerNorm. However, if\n",
        "LayerNorm wasn’t already implemented in PyTorch as a composite\n",
        "operation, then you’d have to define it as a series of simpler\n",
        "(primitive) operations. Let’s make such a definition and run it\n",
        "without nvFuser.\n",
        "\n",
        "\n"
      ]
    },
    {
      "cell_type": "code",
      "execution_count": null,
      "metadata": {
        "id": "ZHY2Y05-zPXe",
        "outputId": "4900c750-4ce9-415b-d590-9a62b73be1bd",
        "colab": {
          "base_uri": "https://localhost:8080/"
        }
      },
      "outputs": [
        {
          "output_type": "stream",
          "name": "stdout",
          "text": [
            "Eager Mode - Primitive Definition\n",
            "Average iterations per second: 104.04\n"
          ]
        }
      ],
      "source": [
        "def primitive_definition(\n",
        "    input1: torch.Tensor,\n",
        "    input2: torch.Tensor,\n",
        "    weight: torch.Tensor,\n",
        "    bias1: torch.Tensor,\n",
        "    bias2: torch.Tensor,\n",
        "    normalization_axis: int,\n",
        "    dropout_prob: float,\n",
        "    keepdim: bool,\n",
        ") -> torch.Tensor:\n",
        "    bias1_out = input1 + bias1\n",
        "    dropout_out = F.dropout(bias1_out, dropout_prob, training=True)\n",
        "    norm_input = dropout_out + input2\n",
        "    mean = norm_input.mean(normalization_axis, keepdim=keepdim)\n",
        "    diff = norm_input - mean\n",
        "    diff_sq = diff * diff\n",
        "    var = diff_sq.mean(normalization_axis, keepdim=keepdim)\n",
        "    pre_shift_scale_norm_output = (norm_input - mean) / torch.sqrt(var + 1e-12)\n",
        "    norm_output = weight * pre_shift_scale_norm_output + bias2\n",
        "    return norm_output\n",
        "\n",
        "\n",
        "# Profile primitive definition\n",
        "func = functools.partial(\n",
        "    primitive_definition,\n",
        "    input1,\n",
        "    input2,\n",
        "    weight,\n",
        "    bias1,\n",
        "    bias2,\n",
        "    normalization_axis=2,\n",
        "    dropout_prob=0.1,\n",
        "    keepdim=True,\n",
        ")\n",
        "profile_workload(\n",
        "    func, grad_output, iteration_count=100, label=\"Eager Mode - Primitive Definition\"\n",
        ")"
      ]
    },
    {
      "cell_type": "markdown",
      "metadata": {
        "id": "Jp03feWKzPXf"
      },
      "source": [
        "While the above is mathematically equivalent to our previous\n",
        "definition, benchmarking our new function with the original static\n",
        "shape using TorchScript and nvFuser shows the iterations per second\n",
        "decreases – mostly due to the cost of accessing memory to save\n",
        "intermediate results.\n",
        "\n",
        ".. figure:: /_static/img/nvfuser_intro/nvfuser_tutorial_3.png\n",
        "\n",
        "The geomean iterations per second is 260 iterations per second,\n",
        "3.26x slower than the composite definition in eager mode and 5.35x\n",
        "slower than the nvFuser composite operation! For more information on\n",
        "why there’s such a drastic decrease in compute speed please see this\n",
        "presentation from GTC 2022:\n",
        "https://www.nvidia.com/en-us/on-demand/session/gtcspring22-s41958/\n",
        "\n",
        "nvFuser with TorchScript can improve the performance of this\n",
        "operation even though it’s defined with primitive PyTorch\n",
        "operations. Simply by enabling TorchScript on the new function\n",
        "(just like before), we can see much of the performance returns.\n",
        "\n",
        "\n"
      ]
    },
    {
      "cell_type": "code",
      "execution_count": null,
      "metadata": {
        "id": "dLIfudwrzPXf",
        "outputId": "58fa8a65-4de2-463b-8774-9629446e7e81",
        "colab": {
          "base_uri": "https://localhost:8080/"
        }
      },
      "outputs": [
        {
          "output_type": "stream",
          "name": "stdout",
          "text": [
            "TorchScript - Primitive definition\n",
            "Average iterations per second: 280.32\n"
          ]
        }
      ],
      "source": [
        "# Profile scripted primitive definition\n",
        "scripted_primitive_definition = torch.jit.script(primitive_definition)\n",
        "func = functools.partial(\n",
        "    scripted_primitive_definition,\n",
        "    input1,\n",
        "    input2,\n",
        "    weight,\n",
        "    bias1,\n",
        "    bias2,\n",
        "    normalization_axis=2,\n",
        "    dropout_prob=0.1,\n",
        "    keepdim=True,\n",
        ")\n",
        "profile_workload(\n",
        "    func, grad_output, iteration_count=100, label=\"TorchScript - Primitive definition\"\n",
        ")"
      ]
    },
    {
      "cell_type": "markdown",
      "metadata": {
        "id": "OPUdRppmzPXf"
      },
      "source": [
        ".. figure:: /_static/img/nvfuser_intro/nvfuser_tutorial_4.png\n",
        "\n",
        "However, the performance is still slower than the original eager\n",
        "mode performance of the composite definition. TorchScript works well\n",
        "when predefined composite operations are used, however TorchScript’s\n",
        "application of Autograd saves all of the activations for each\n",
        "operator in the fusion for re-use in the backwards pass. However,\n",
        "this is not typically the optimal choice. Especially when chaining\n",
        "together multiple simple operations, it is often much faster to\n",
        "recompute some intermediate tensors rather than spend the time\n",
        "storing and retrieving several saved results from memory.\n",
        "\n",
        "It’s possible to optimize away many of these unnecessary memory\n",
        "accesses, but it requires building a connected forward and backward\n",
        "graph which isn’t possible with TorchScript. The\n",
        "`memory_efficient_fusion` pass in FuncTorch, however, is such an\n",
        "optimization pass. To use this pass, we have to redefine our\n",
        "function to pull the constants inside (for now it’s easiest to make\n",
        "non-tensor constants literals in the function definition):\n",
        "\n",
        "\n"
      ]
    },
    {
      "cell_type": "code",
      "execution_count": null,
      "metadata": {
        "id": "v4t664amzPXg"
      },
      "outputs": [],
      "source": [
        "def primitive_definition_for_memory_efficient_fusion(\n",
        "    input1: torch.Tensor,\n",
        "    input2: torch.Tensor,\n",
        "    weight: torch.Tensor,\n",
        "    bias1: torch.Tensor,\n",
        "    bias2: torch.Tensor,\n",
        ") -> torch.Tensor:\n",
        "    bias1_out = input1 + bias1\n",
        "    dropout_out = F.dropout(bias1_out, 0.1, training=True)\n",
        "    norm_input = dropout_out + input2\n",
        "    mean = norm_input.mean(2, keepdim=True)\n",
        "    diff = norm_input - mean\n",
        "    diff_sq = diff * diff\n",
        "    var = diff_sq.mean(2, keepdim=True)\n",
        "    pre_shift_scale_norm_output = (norm_input - mean) / torch.sqrt(var + 1e-12)\n",
        "    norm_output = weight * pre_shift_scale_norm_output + bias2\n",
        "    return norm_output"
      ]
    },
    {
      "cell_type": "markdown",
      "metadata": {
        "id": "_LHlEGFHzPXg"
      },
      "source": [
        "Now, instead of passing our function to TorchScript, we will pass it\n",
        "to FuncTorch’s optimization pass.\n",
        "\n",
        "\n"
      ]
    },
    {
      "cell_type": "code",
      "execution_count": null,
      "metadata": {
        "id": "OLhq6m4mzPXg"
      },
      "outputs": [],
      "source": [
        "# Optimize the model with FuncTorch tracing and the memory efficiency\n",
        "# optimization pass\n",
        "memory_efficient_primitive_definition = memory_efficient_fusion(\n",
        "    primitive_definition_for_memory_efficient_fusion\n",
        ")\n",
        "\n",
        "# Profile memory efficient primitive definition\n",
        "func = functools.partial(\n",
        "    memory_efficient_primitive_definition, input1, input2, weight, bias1, bias2\n",
        ")\n",
        "profile_workload(\n",
        "    func,\n",
        "    grad_output,\n",
        "    iteration_count=100,\n",
        "    label=\"FuncTorch - Primitive definition\",\n",
        ")"
      ]
    },
    {
      "cell_type": "markdown",
      "metadata": {
        "id": "QBO4_BMWzPXg"
      },
      "source": [
        "This recovers even more speed, but it’s still not as fast as\n",
        "TorchScripts original performance with the composite definition.\n",
        "However, this is still faster than running this new definition\n",
        "without nvFuser, and is still faster than the composite definition\n",
        "without nvFuser.\n",
        "\n",
        ".. figure:: /_static/img/nvfuser_intro/nvfuser_tutorial_5.png\n",
        "\n",
        "<div class=\"alert alert-info\"><h4>Note</h4><p>FuncTorch’s memory efficient pass is experimental and still\n",
        "          actively in development.\n",
        "          Future versions of the API are expected to achieve performance\n",
        "          closer to that of TorchScript with the composite definition.</p></div>\n",
        "\n",
        "<div class=\"alert alert-info\"><h4>Note</h4><p>FuncTorch’s memory efficient pass specializes on the shapes of\n",
        "          the inputs to the function. If new inputs are provided with\n",
        "          different shapes, then you need to construct a new function\n",
        "          using `memory_efficient_fusion` and apply it to the new inputs.</p></div>\n",
        "\n"
      ]
    },
    {
      "cell_type": "markdown",
      "metadata": {
        "id": "YKqlrTY3zPXg"
      },
      "source": [
        "## Transformer Block With a Novel Normalization\n",
        "The ability to quickly execute chains of simple operations is\n",
        "important as not every operation has a composite operation defined\n",
        "in PyTorch. Previously, this meant researchers either had to define\n",
        "an entirely new operation in PyTorch – which takes a lot of time and\n",
        "knowledge of the lower-level PyTorch code as well as parallel\n",
        "programming – or writing the operation in simpler PyTorch ops and\n",
        "settling for poor performance. For example, let's replace LayerNorm\n",
        "in our example with RMSNorm. Even though RMSNorm is a bit simpler\n",
        "than LayerNorm, it doesn’t have an existing compound operation in\n",
        "PyTorch. See the [Root Mean Square Layer Normalization](https://doi.org/10.48550/arXiv.1910.07467)_ paper for more information about RMSNorm.\n",
        "As before, we’ll define our new transformer block with\n",
        "primitive PyTorch operations.\n",
        "\n",
        "\n"
      ]
    },
    {
      "cell_type": "code",
      "execution_count": null,
      "metadata": {
        "id": "PMIkfQfZzPXh"
      },
      "outputs": [],
      "source": [
        "def with_rms_norm(\n",
        "    input1: torch.Tensor,\n",
        "    input2: torch.Tensor,\n",
        "    weight: torch.Tensor,\n",
        "    bias: torch.Tensor,\n",
        "    normalization_axis: int,\n",
        "    dropout_prob: float,\n",
        "    keepdim: bool,\n",
        ") -> torch.Tensor:\n",
        "    bias_out = input1 + bias\n",
        "    dropout_out = F.dropout(bias_out, dropout_prob, training=True)\n",
        "    norm_input = dropout_out + input2\n",
        "    var = norm_input.mul(norm_input).mean(normalization_axis, keepdim)\n",
        "    pre_shift_scale_norm_output = norm_input / torch.sqrt(var + 1e-12)\n",
        "    norm_output = weight * pre_shift_scale_norm_output\n",
        "    return norm_output"
      ]
    },
    {
      "cell_type": "markdown",
      "metadata": {
        "id": "OAW_6M3rzPXh"
      },
      "source": [
        "As before, we’ll get a baseline by running PyTorch without nvFuser.\n",
        "\n",
        "\n"
      ]
    },
    {
      "cell_type": "code",
      "execution_count": null,
      "metadata": {
        "id": "TQlgqF3BzPXh"
      },
      "outputs": [],
      "source": [
        "# Profile rms_norm\n",
        "func = functools.partial(\n",
        "    with_rms_norm,\n",
        "    input1,\n",
        "    input2,\n",
        "    weight,\n",
        "    bias1,\n",
        "    normalization_axis=2,\n",
        "    dropout_prob=0.1,\n",
        "    keepdim=True,\n",
        ")\n",
        "profile_workload(func, grad_output, iteration_count=100, label=\"Eager Mode - RMS Norm\")"
      ]
    },
    {
      "cell_type": "markdown",
      "metadata": {
        "id": "tdtDHYn2zPXh"
      },
      "source": [
        "With nvFuser through TorchScript.\n",
        "\n",
        "\n"
      ]
    },
    {
      "cell_type": "code",
      "execution_count": null,
      "metadata": {
        "id": "DGwwltmKzPXi"
      },
      "outputs": [],
      "source": [
        "# Profile scripted rms_norm\n",
        "scripted_with_rms_norm = torch.jit.script(with_rms_norm)\n",
        "func = functools.partial(\n",
        "    scripted_with_rms_norm,\n",
        "    input1,\n",
        "    input2,\n",
        "    weight,\n",
        "    bias1,\n",
        "    normalization_axis=2,\n",
        "    dropout_prob=0.1,\n",
        "    keepdim=True,\n",
        ")\n",
        "profile_workload(func, grad_output, iteration_count=100, label=\"TorchScript - RMS Norm\")"
      ]
    },
    {
      "cell_type": "markdown",
      "metadata": {
        "id": "QiaKfFWkzPXi"
      },
      "source": [
        "With nvFuser through Functorch.\n",
        "\n",
        "\n"
      ]
    },
    {
      "cell_type": "code",
      "execution_count": null,
      "metadata": {
        "id": "fY0yrQL8zPXi"
      },
      "outputs": [],
      "source": [
        "def with_rms_norm_for_memory_efficient_fusion(\n",
        "    input1: torch.Tensor, input2: torch.Tensor, weight: torch.Tensor, bias: torch.Tensor\n",
        ") -> torch.Tensor:\n",
        "    bias_out = input1 + bias\n",
        "    dropout_out = torch.nn.functional.dropout(bias_out, 0.1)\n",
        "    norm_input = dropout_out + input2\n",
        "    var = norm_input.mul(norm_input).mean(2, keepdim=True)\n",
        "    pre_shift_scale_norm_output = norm_input / torch.sqrt(var + 1e-12)\n",
        "    norm_output = weight * pre_shift_scale_norm_output\n",
        "    return norm_output\n",
        "\n",
        "\n",
        "# Profile memory efficient rms_norm\n",
        "memory_efficient_rms_norm = memory_efficient_fusion(\n",
        "    with_rms_norm_for_memory_efficient_fusion\n",
        ")\n",
        "func = functools.partial(memory_efficient_rms_norm, input1, input2, weight, bias1)\n",
        "profile_workload(func, grad_output, iteration_count=100, label=\"FuncTorch - RMS Norm\")"
      ]
    },
    {
      "cell_type": "markdown",
      "metadata": {
        "id": "LygrUSIDzPXi"
      },
      "source": [
        ".. figure:: /_static/img/nvfuser_intro/nvfuser_tutorial_6.png\n",
        "\n",
        "Since RMSNorm is simpler than LayerNorm the performance of our new\n",
        "transformer block is a little higher than the primitive definition\n",
        "without nvFuser (354 iterations per second compared with 260\n",
        "iterations per second). With TorchScript, the iterations per second\n",
        "increases by 2.68x and 3.36x to 952 iterations per second and 1,191\n",
        "iterations per second with TorchScript and FuncTorch’s memory\n",
        "efficient optimization pass, respectively. The performance of this\n",
        "new operation nearly matches the performance of the composite Layer\n",
        "Norm definition with TorchScript.\n",
        "\n",
        "nvFuser is here to provide the ability to define novel operations in\n",
        "simple PyTorch and get performance that’s close to a highly optimized\n",
        "composite operation in PyTorch. We believe this will enable research\n",
        "into novel network topologies without paying for sometimes devastating\n",
        "effects on speed of training. nvFuser provides this unique ability as\n",
        "it’s able to analyze users’ programs to provide performance as fast as a\n",
        "highly hand tuned implementation, regardless of how the operations are\n",
        "defined. nvFuser still cannot support every operation in PyTorch,\n",
        "however its capabilities will continue to grow over time.\n",
        "\n"
      ]
    }
  ],
  "metadata": {
    "kernelspec": {
      "display_name": "Python 3",
      "language": "python",
      "name": "python3"
    },
    "language_info": {
      "codemirror_mode": {
        "name": "ipython",
        "version": 3
      },
      "file_extension": ".py",
      "mimetype": "text/x-python",
      "name": "python",
      "nbconvert_exporter": "python",
      "pygments_lexer": "ipython3",
      "version": "3.7.13"
    },
    "colab": {
      "provenance": [],
      "include_colab_link": true
    },
    "accelerator": "GPU"
  },
  "nbformat": 4,
  "nbformat_minor": 0
}